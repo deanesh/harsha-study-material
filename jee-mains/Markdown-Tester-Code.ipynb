{
 "cells": [
  {
   "cell_type": "code",
   "execution_count": null,
   "id": "e735d413",
   "metadata": {},
   "outputs": [],
   "source": [
    "from markdown import markdown\n",
    "from bs4 import BeautifulSoup\n",
    "\n",
    "# Replace this with your full Chemistry markdown content\n",
    "sample_markdown = r\"\"\"\n",
    "| **Class** | **Lesson**                                      | **Concept**                          | **Formula / Key Point**                                                                                       |\n",
    "|-----------|--------------------------------------------------|--------------------------------------|----------------------------------------------------------------------------------------------------------------|\n",
    "| 11        | Some Basic Concepts of Chemistry                 | Mole concept                         | \\( n = \\frac{\\text{mass}}{\\text{molar mass}}\\); \\( N = n \\times N_A \\) <br><br>                                |\n",
    "|           |                                                  | ---                                  | ---                                                                                                            |\n",
    "|           |                                                  | Concentration units                   | Molarity: \\( M = \\frac{\\text{moles of solute}}{\\text{volume of solution (L)}} \\) <br><br>                    |\n",
    "|           |                                                  | ---                                  | ---                                                                                                            |\n",
    "|           |                                                  | Percentage / fraction                | \\(\\%\\text{ by mass} = \\frac{\\text{mass of component}}{\\text{mass of compound}} \\times 100\\) <br><br>           |\n",
    "|           |                                                  | ---                                  | ---                                                                                                            |\n",
    "\"\"\"\n",
    "\n",
    "# Convert Markdown to HTML\n",
    "html = markdown(sample_markdown, extensions=[\"extra\", \"smarty\"])\n",
    "\n",
    "# Parse HTML to extract text\n",
    "soup = BeautifulSoup(html, \"html.parser\")\n",
    "cleaned_text = soup.get_text()\n",
    "\n",
    "# Print a portion of the cleaned text for review\n",
    "print(cleaned_text)"
   ]
  }
 ],
 "metadata": {
  "kernelspec": {
   "display_name": "harsha-study-material",
   "language": "python",
   "name": "python3"
  },
  "language_info": {
   "codemirror_mode": {
    "name": "ipython",
    "version": 3
   },
   "file_extension": ".py",
   "mimetype": "text/x-python",
   "name": "python",
   "nbconvert_exporter": "python",
   "pygments_lexer": "ipython3",
   "version": "3.13.5"
  }
 },
 "nbformat": 4,
 "nbformat_minor": 5
}
