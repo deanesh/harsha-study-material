{
 "cells": [
  {
   "cell_type": "markdown",
   "id": "166b9eb3",
   "metadata": {
    "vscode": {
     "languageId": "html"
    }
   },
   "source": [
    "| **Chapter** | **Concept** | **Formula / Key Point** |\n",
    "|-------------|-------------|--------------------------|\n",
    "| **Physical World & Measurement** | SI Units | Length (m), Mass (kg), Time (s), Current (A), Temperature (K) <br><br> |\n",
    "|   | --- | --- |\n",
    "|  | Dimensional Formula | E.g., Force: $[MLT^{-2}]$ <br><br> |\n",
    "|   | --- | --- |\n",
    "| **Kinematics** | Equations of Motion (Constant Acceleration) | $v = u + at$, $s = ut + \\frac{1}{2}at^2$, $v^2 = u^2 + 2as$ <br><br> |\n",
    "|   | --- | --- |\n",
    "|  | Projectile Motion | $R = \\frac{u^2 \\sin 2\\theta}{g}$, $H = \\frac{u^2 \\sin^2 \\theta}{2g}$ <br><br> |\n",
    "|   | --- | --- |\n",
    "| **Laws of Motion** | Newton’s Second Law | $\\vec{F} = m \\vec{a}$ <br><br> |\n",
    "|   | --- | --- |\n",
    "|  | Momentum | $\\vec{p} = m \\vec{v}$ <br><br> |\n",
    "|   | --- | --- |\n",
    "|  | Impulse | $\\vec{J} = \\Delta \\vec{p} = \\vec{F} \\Delta t$ <br><br> |\n",
    "|   | --- | --- |\n",
    "| **Work, Energy & Power** | Work Done | $W = \\vec{F} \\cdot \\vec{s} = F s \\cos \\theta$ <br><br> |\n",
    "|   | --- | --- |\n",
    "|  | Kinetic Energy | $KE = \\frac{1}{2} m v^2$ <br><br> |\n",
    "|   | --- | --- |\n",
    "|  | Potential Energy (Gravitational) | $PE = mgh$ <br><br> |\n",
    "|   | --- | --- |\n",
    "|  | Power | $P = \\frac{W}{t} = F v \\cos \\theta$ <br><br> |\n",
    "|   | --- | --- |\n",
    "| **System of Particles & Rotational Motion** | Centre of Mass | $x_{cm} = \\frac{\\sum m_i x_i}{\\sum m_i}$, similarly for y, z <br><br> |\n",
    "|   | --- | --- |\n",
    "|  | Moment of Inertia | $I = \\sum m_i r_i^2$ <br><br> |\n",
    "|   | --- | --- |\n",
    "|  | Torque | $\\vec{\\tau} = \\vec{r} \\times \\vec{F}$ <br><br> |\n",
    "|   | --- | --- |\n",
    "|  | Angular Momentum | $\\vec{L} = I \\vec{\\omega}$ <br><br> |\n",
    "|   | --- | --- |\n",
    "| **Gravitation** | Universal Law of Gravitation | $F = G \\frac{m_1 m_2}{r^2}$ <br><br> |\n",
    "|   | --- | --- |\n",
    "|  | Acceleration due to Gravity | $g = \\frac{GM}{R^2}$ <br><br> |\n",
    "|   | --- | --- |\n",
    "|  | Orbital Velocity | $v = \\sqrt{\\frac{GM}{r}}$ <br><br> |\n",
    "|   | --- | --- |\n",
    "|  | Escape Velocity | $v_e = \\sqrt{2gR}$ <br><br> |\n",
    "|   | --- | --- |\n",
    "| **Properties of Matter** | Stress & Strain | Stress = $\\frac{F}{A}$, Strain = $\\frac{\\Delta L}{L}$ <br><br> |\n",
    "|   | --- | --- |\n",
    "|  | Young’s Modulus | $Y = \\frac{\\text{Stress}}{\\text{Strain}} = \\frac{FL}{A \\Delta L}$ <br><br> |\n",
    "|   | --- | --- |\n",
    "|  | Bulk Modulus | $B = -V \\frac{\\Delta P}{\\Delta V}$ <br><br> |\n",
    "|   | --- | --- |\n",
    "|  | Surface Tension | $F = T \\times \\text{length}$, $P = \\frac{2T}{r}$ <br><br> |\n",
    "|   | --- | --- |\n",
    "| **Thermodynamics** | First Law of Thermodynamics | $\\Delta U = Q - W$ <br><br> |\n",
    "|   | --- | --- |\n",
    "|  | Work Done in Isothermal Process | $W = nRT \\ln \\frac{V_f}{V_i}$ <br><br> |\n",
    "|   | --- | --- |\n",
    "|  | Work Done in Adiabatic Process | $PV^\\gamma = \\text{constant}$, $W = \\frac{P_i V_i - P_f V_f}{\\gamma -1}$ <br><br> |\n",
    "|   | --- | --- |\n",
    "| **Kinetic Theory of Gases** | Ideal Gas Equation | $PV = nRT$ <br><br> |\n",
    "|   | --- | --- |\n",
    "|  | RMS Speed | $v_{rms} = \\sqrt{\\frac{3RT}{M}}$ <br><br> |\n",
    "|   | --- | --- |\n",
    "| **Oscillations & Waves** | Simple Harmonic Motion (SHM) | $x = A \\sin (\\omega t + \\phi)$ <br><br> |\n",
    "|   | --- | --- |\n",
    "|  | Angular Frequency | $\\omega = 2 \\pi f = \\sqrt{\\frac{k}{m}}$ <br><br> |\n",
    "|   | --- | --- |\n",
    "|  | Time Period | $T = \\frac{2\\pi}{\\omega} = 2 \\pi \\sqrt{\\frac{m}{k}}$ <br><br> |\n",
    "|   | --- | --- |\n",
    "|  | Wave Speed | $v = f \\lambda$ <br><br> |\n"
   ]
  },
  {
   "cell_type": "markdown",
   "id": "85bd3402",
   "metadata": {},
   "source": []
  }
 ],
 "metadata": {
  "kernelspec": {
   "display_name": "Python 3",
   "language": "python",
   "name": "python3"
  },
  "language_info": {
   "codemirror_mode": {
    "name": "ipython",
    "version": 3
   },
   "file_extension": ".py",
   "mimetype": "text/x-python",
   "name": "python",
   "nbconvert_exporter": "python",
   "pygments_lexer": "ipython3",
   "version": "3.13.6"
  }
 },
 "nbformat": 4,
 "nbformat_minor": 5
}
