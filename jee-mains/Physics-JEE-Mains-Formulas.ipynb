{
 "cells": [
  {
   "cell_type": "markdown",
   "id": "163800c8",
   "metadata": {},
   "source": []
  },
  {
   "cell_type": "markdown",
   "id": "1b1b3a67",
   "metadata": {},
   "source": [
    "| **Class** | **Lesson**                  | **Concept**                  | **Formula / Key Point**                                                                                                  | **Variable Explanation**                                                                 |\n",
    "|-----------|-----------------------------|------------------------------|--------------------------------------------------------------------------------------------------------------------------|-------------------------------------------------------------------------------------------|\n",
    "| 11        | Physical World & Measurement | SI Units                     | [Base units: m, kg, s, A, K, mol, cd]                                                                                    | m: metre, kg: kilogram, s: second, A: ampere, K: kelvin, mol: mole, cd: candela           |\n",
    "|           |                             | Measurement Errors           | [Percentage error = $\\frac{\\text{Error}}{\\text{Measured value}} \\times 100$]                                            | Error: Difference from true value, Measured value: Obtained value                         |\n",
    "|           |                             | Significant Figures          | [Rules for significant digits]                                                                                           | -                                                                                         |\n",
    "| 11        | Kinematics                  | Equations of Motion          | [$v = u + at$], [$s = ut + \\frac{1}{2}at^2$], [$v^2 = u^2 + 2as$]                                                         | v: Final velocity, u: Initial velocity, a: Acceleration, t: Time, s: Displacement         |\n",
    "|           |                             | Projectile Motion            | [$R = \\frac{u^2 \\sin 2\\theta}{g}$], [$T = \\frac{2u \\sin \\theta}{g}$]                                                     | u: Initial velocity, θ: Angle, g: Gravity, R: Range, T: Time of flight                    |\n",
    "|           |                             | Relative Velocity            | [$\\vec{v}_{A/B} = \\vec{v}_A - \\vec{v}_B$]                                                                                 | $v_{A/B}$: Velocity of A relative to B                                                    |\n",
    "| 11        | Laws of Motion              | Newton’s Second Law          | [$\\vec{F} = m \\vec{a}$]                                                                                                   | F: Force, m: Mass, a: Acceleration                                                        |\n",
    "|           |                             | Friction                     | [$f_{\\max} = \\mu N$]                                                                                                      | $f_{\\max}$: Max static friction, $\\mu$: Coefficient of friction, N: Normal force          |\n",
    "|           |                             | Impulse & Momentum           | [ $\\vec{J} = \\vec{F} \\Delta t$ ], [ $\\vec{p} = m \\vec{v}$ ]                                                               | J: Impulse, p: Momentum, F: Force, Δt: Time interval, m: Mass, v: Velocity                |\n",
    "| 11        | Work, Energy & Power        | Work Done                    | [$W = \\vec{F} \\cdot \\vec{d} = F d \\cos \\theta$]                                                                           | W: Work, F: Force, d: Displacement, θ: Angle between force and displacement               |\n",
    "|           |                             | Kinetic Energy               | [$K.E. = \\frac{1}{2} m v^2$]                                                                                              | m: Mass, v: Velocity                                                                      |\n",
    "|           |                             | Power                        | [$P = \\frac{W}{t}$], [$P = F v$]                                                                                          | P: Power, W: Work, t: Time, F: Force, v: Velocity                                         |\n",
    "| 11        | Gravitation                 | Newton’s Law of Gravitation  | [$F = G \\frac{m_1 m_2}{r^2}$]                                                                                             | F: Force, G: Gravitational constant, $m_1$, $m_2$: Masses, r: Distance between centers    |\n",
    "|           |                             | Acceleration due to Gravity  | [$g = G \\frac{M}{R^2}$]                                                                                                   | g: Gravity, G: Gravitational constant, M: Planet mass, R: Radius of planet               |\n",
    "|           |                             | Escape Velocity              | [$v_e = \\sqrt{\\frac{2GM}{R}}$]                                                                                            | $v_e$: Escape velocity, G: Gravitational constant, M: Mass of planet, R: Radius           |\n",
    "| 11        | Properties of Matter        | Stress and Strain            | [Stress = $\\frac{F}{A}$], [Strain = $\\frac{\\Delta L}{L}$]                                                                 | F: Force, A: Area, ΔL: Change in length, L: Original length                               |\n",
    "|           |                             | Young’s Modulus              | [$Y = \\frac{\\text{Stress}}{\\text{Strain}} = \\frac{F/A}{\\Delta L / L}$]                                                   | Y: Young's modulus, F: Force, A: Area, L: Length, ΔL: Change in length                    |\n",
    "|           |                             | Bulk Modulus                 | [$B = -V \\frac{\\Delta P}{\\Delta V}$]                                                                                      | B: Bulk modulus, V: Volume, ΔP: Pressure change, ΔV: Volume change                        |\n",
    "| 11        | Thermodynamics              | First Law                    | [$\\Delta U = Q - W$]                                                                                                      | ΔU: Change in internal energy, Q: Heat, W: Work                                           |\n",
    "|           |                             | Work in Expansion            | [$W = P \\Delta V$]                                                                                                        | W: Work, P: Pressure, ΔV: Volume change                                                   |\n",
    "|           |                             | Specific Heat Capacity       | [$Q = mc \\Delta T$]                                                                                                       | Q: Heat, m: Mass, c: Specific heat, ΔT: Temp change                                       |\n",
    "| 11        | Oscillations                | Simple Harmonic Motion       | [$x = A \\sin(\\omega t + \\phi)$], [$\\omega = 2\\pi f = \\sqrt{\\frac{k}{m}}$], [$T = \\frac{2\\pi}{\\omega}$]                   | x: Displacement, A: Amplitude, ω: Angular frequency, φ: Phase, t: Time, k: Spring const. |\n",
    "|           |                             | Time Period of Pendulum      | [$T = 2\\pi \\sqrt{\\frac{l}{g}}$]                                                                                           | T: Time period, l: Length of pendulum, g: Gravity                                         |\n",
    "|           |                             | Energy in SHM                | [$E = \\frac{1}{2} k A^2$]                                                                                                 | E: Energy, k: Spring constant, A: Amplitude                                               |\n",
    "| 11        | Waves                       | Wave Velocity                | [$v = f \\lambda$]                                                                                                         | v: Velocity, f: Frequency, λ: Wavelength                                                  |\n",
    "|           |                             | Intensity                    | [Intensity $\\propto$ Amplitude$^2$]                                                                                       | Intensity ∝ Square of Amplitude                                                           |\n",
    "|           |                             | Superposition Principle      | [Constructive and destructive interference]                                                                               | Depends on phase difference of overlapping waves                                          |\n",
    "| 12        | Electrostatics              | Coulomb’s Law                | [$F = k \\frac{q_1 q_2}{r^2}$]                                                                                             | F: Force, k: Coulomb constant, $q_1$, $q_2$: Charges, r: Distance between charges         |\n",
    "|           |                             | Electric Field               | [$E = \\frac{F}{q} = k \\frac{Q}{r^2}$]                                                                                     | E: Electric field, F: Force, q: Test charge, Q: Source charge, r: Distance                |\n",
    "|           |                             | Electric Potential           | [$V = k \\frac{Q}{r}$]                                                                                                     | V: Electric potential, Q: Charge, r: Distance, k: Coulomb constant                        |\n",
    "| 12        | Current Electricity         | Ohm’s Law                    | [$V = IR$]                                                                                                                | V: Voltage, I: Current, R: Resistance                                                     |\n",
    "|           |                             | Power in Electric Circuit    | [$P = VI$], [$P = I^2 R$], [$P = \\frac{V^2}{R}$]                                                                          | P: Power, V: Voltage, I: Current, R: Resistance                                           |\n",
    "|           |                             | Resistance (Series/Parallel) | [Series: $R = R_1 + R_2 + ...$], [Parallel: $\\frac{1}{R} = \\frac{1}{R_1} + \\frac{1}{R_2} + ...$]                          | R: Net resistance, $R_1$, $R_2$: Individual resistances                                   |\n",
    "| 12        | Magnetic Effects            | Biot–Savart Law              | [$d\\vec{B} = \\frac{\\mu_0}{4\\pi} \\frac{I d\\vec{l} \\times \\hat{r}}{r^2}$]                                                  | $\\mu_0$: Permeability, I: Current, $d\\vec{l}$: Element length, $\\hat{r}$: Unit vector     |\n",
    "|           |                             | Magnetic Field on Coil Axis  | [$B = \\frac{\\mu_0 N I R^2}{2 (R^2 + x^2)^{3/2}}$]                                                                         | B: Magnetic field, N: Turns, I: Current, R: Radius, x: Axis dist.                         |\n",
    "|           |                             | Force on Current-Carrying Wire | [$\\vec{F} = I \\vec{L} \\times \\vec{B}$]                                                                                   | F: Force, I: Current, L: Length vector, B: Magnetic field                                 |\n",
    "| 12        | Electromagnetic Induction   | Faraday’s Law                | [$\\mathcal{E} = - \\frac{d\\Phi_B}{dt}$]                                                                                    | $\\mathcal{E}$: EMF, $\\Phi_B$: Magnetic flux, t: Time                                      |\n",
    "|           |                             | Lenz’s Law                   | [Induced emf opposes the change causing it]                                                                              | Direction opposes cause                                                                  |\n",
    "|           |                             | Self-Inductance              | [$L = \\frac{N \\Phi_B}{I}$]                                                                                                | L: Inductance, N: Turns, $\\Phi_B$: Magnetic flux, I: Current                              |\n",
    "| 12        | Alternating Currents        | RMS Values                   | [$I_{\\mathrm{rms}} = \\frac{I_0}{\\sqrt{2}}$], [$V_{\\mathrm{rms}} = \\frac{V_0}{\\sqrt{2}}$]                                   | $I_0$: Peak current, $V_0$: Peak voltage                                                  |\n",
    "|           |                             | Reactance                    | [Inductive: $X_L = \\omega L$], [Capacitive: $X_C = \\frac{1}{\\omega C}$]                                                  | $\\omega$: Angular freq, L: Inductance, C: Capacitance                                    |\n",
    "|           |                             | Impedance                    | [$Z = \\sqrt{R^2 + (X_L - X_C)^2}$]                                                                                       | Z: Impedance, R: Resistance, $X_L$, $X_C$: Reactances                                     |\n",
    "| 12        | Optics                      | Lens Formula                 | [$\\frac{1}{f} = \\frac{1}{v} - \\frac{1}{u}$]                                                                               | f: Focal length, v: Image distance, u: Object distance                                    |\n",
    "|           |                             | Magnification                | [$m = \\frac{v}{u} = \\frac{h_i}{h_o}$]                                                                                     | $h_i$: Image height, $h_o$: Object height                                                 |\n",
    "|           |                             | Snell’s Law                  | [$n_1 \\sin \\theta_1 = n_2 \\sin \\theta_2$]                                                                                 | $n$: Refractive index, $\\theta$: Angle                                                    |\n",
    "| 12        | Dual Nature & Radiation     | Photoelectric Equation       | [$hf = \\phi + \\frac{1}{2} mv^2$]                                                                                          | h: Planck’s const, f: Frequency, φ: Work function, m: Mass, v: Velocity                   |\n",
    "|           |                             | de Broglie Wavelength        | [$\\lambda = \\frac{h}{p} = \\frac{h}{mv}$]                                                                                  | λ: Wavelength, h: Planck's constant, p: Momentum, m: Mass, v: Velocity                    |\n",
    "|           |                             | Radioactive Decay            | [$N = N_0 e^{-\\lambda t}$]                                                                                                | $N_0$: Initial nuclei, λ: Decay const, t: Time                                            |\n",
    "| 12        | Atoms and Nuclei            | Bohr Radius                  | [$r_n = n^2 \\frac{h^2}{4 \\pi^2 m e^2}$]                                                                                   | $r_n$: Orbit radius, n: Level, h: Planck’s const, m: Electron mass, e: Charge             |\n",
    "|           |                             | Energy Levels                | [$E_n = - \\frac{13.6\\, \\text{eV}}{n^2}$]                                                                                  | $E_n$: Energy of nth level, n: Orbit number                                               |\n"
   ]
  },
  {
   "cell_type": "markdown",
   "id": "4aaca2a8",
   "metadata": {},
   "source": []
  }
 ],
 "metadata": {
  "kernelspec": {
   "display_name": "harsha-study-material",
   "language": "python",
   "name": "python3"
  },
  "language_info": {
   "name": "python",
   "version": "3.13.5"
  }
 },
 "nbformat": 4,
 "nbformat_minor": 5
}
