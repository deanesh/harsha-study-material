{
 "cells": [
  {
   "cell_type": "markdown",
   "id": "c47ca679",
   "metadata": {
    "vscode": {
     "languageId": "html"
    }
   },
   "source": [
    "| **Lesson** | **Concept** | **Formula / Key Point** |\n",
    "|------------|-------------|--------------------------|\n",
    "| **Relations & Functions** | Types of Relations | Reflexive, Symmetric, Transitive, Equivalence <br><br> |\n",
    "|   | --- | --- |\n",
    "|  | Inverse Function | If $f(x)$ is one-one and onto, then $f^{-1}(f(x)) = x$ <br><br> |\n",
    "|   | --- | --- |\n",
    "| **Algebra** | Quadratic Equations | Roots of $ax^2 + bx + c = 0$: $x = \\frac{-b \\pm \\sqrt{b^2 - 4ac}}{2a}$ <br><br> |\n",
    "|   | --- | --- |\n",
    "|  | Complex Numbers | $z = r(\\cos \\theta + i \\sin \\theta)$ (Polar Form) <br><br> |\n",
    "|   | --- | --- |\n",
    "|  | De Moivre's Theorem | $(\\cos \\theta + i \\sin \\theta)^n = \\cos n\\theta + i \\sin n\\theta$ <br><br> |\n",
    "|   | --- | --- |\n",
    "| **Calculus** | Limit Definition | $\\lim_{x \\to a} f(x) = L$ if for every $\\epsilon > 0$ there exists $\\delta > 0$ such that ... <br><br> |\n",
    "|   | --- | --- |\n",
    "|  | Derivatives | $\\frac{d}{dx} x^n = nx^{n-1}$, $\\frac{d}{dx} \\sin x = \\cos x$, $\\frac{d}{dx} e^x = e^x$ <br><br> |\n",
    "|   | --- | --- |\n",
    "|  | Chain Rule | If $y = f(u)$ and $u = g(x)$, then $\\frac{dy}{dx} = \\frac{dy}{du} \\cdot \\frac{du}{dx}$ <br><br> |\n",
    "|   | --- | --- |\n",
    "|  | Integration | $\\int x^n dx = \\frac{x^{n+1}}{n+1} + C$, $\\int e^x dx = e^x + C$ <br><br> |\n",
    "|   | --- | --- |\n",
    "| **Vectors & 3D Geometry** | Dot Product | $\\vec{a} \\cdot \\vec{b} = |\\vec{a}||\\vec{b}|\\cos \\theta$ <br><br> |\n",
    "|   | --- | --- |\n",
    "|  | Cross Product | $\\vec{a} \\times \\vec{b} = |\\vec{a}||\\vec{b}|\\sin \\theta \\hat{n}$ <br><br> |\n",
    "|   | --- | --- |\n",
    "|  | Equation of a Line | $\\frac{x - x_1}{l} = \\frac{y - y_1}{m} = \\frac{z - z_1}{n}$ <br><br> |\n",
    "|   | --- | --- |\n",
    "|  | Equation of a Plane | $ax + by + cz + d = 0$ <br><br> |\n",
    "|   | --- | --- |\n",
    "| **Probability & Statistics** | Conditional Probability | $P(A|B) = \\frac{P(A \\cap B)}{P(B)}$ <br><br> |\n",
    "|   | --- | --- |\n",
    "|  | Bayes Theorem | $P(A_i|B) = \\frac{P(A_i) P(B|A_i)}{\\sum P(A_j) P(B|A_j)}$ <br><br> |\n",
    "|   | --- | --- |\n",
    "| **Matrices & Determinants** | Matrix Multiplication | $(AB)_{ij} = \\sum_k A_{ik} B_{kj}$ <br><br> |\n",
    "|   | --- | --- |\n",
    "|  | Determinant of 2x2 | $\\det \\begin{bmatrix} a & b \\\\ c & d \\end{bmatrix} = ad - bc$ <br><br> |\n",
    "|   | --- | --- |\n",
    "|  | Inverse of Matrix | $A^{-1} = \\frac{1}{\\det A} \\text{adj} A$ (if $\\det A \\neq 0$) <br><br> |\n",
    "|   | --- | --- |\n",
    "| **Differential Equations** | General Form | $\\frac{dy}{dx} + Py = Q$ <br><br> |\n",
    "|   | --- | --- |\n",
    "|  | Solution | $y = e^{-\\int P dx} \\left( \\int Q e^{\\int P dx} dx + C \\right)$ <br><br> |\n",
    "|   | --- | --- |\n",
    "| **Vector Algebra** | Scalar Triple Product | $\\vec{a} \\cdot (\\vec{b} \\times \\vec{c})$ (volume of parallelepiped) <br><br> |\n",
    "|   | --- | --- |\n",
    "| **Application of Derivatives** | Maxima and Minima | Use $\\frac{dy}{dx} = 0$ and second derivative test <br><br> |\n",
    "|   | --- | --- |\n",
    "|  | Increasing/Decreasing Functions | $f'(x) > 0$ increasing, $f'(x) < 0$ decreasing <br><br> |\n"
   ]
  },
  {
   "cell_type": "markdown",
   "id": "cc365652",
   "metadata": {},
   "source": []
  },
  {
   "cell_type": "markdown",
   "id": "61a120ac",
   "metadata": {},
   "source": []
  }
 ],
 "metadata": {
  "kernelspec": {
   "display_name": "Python 3",
   "language": "python",
   "name": "python3"
  },
  "language_info": {
   "codemirror_mode": {
    "name": "ipython",
    "version": 3
   },
   "file_extension": ".py",
   "mimetype": "text/x-python",
   "name": "python",
   "nbconvert_exporter": "python",
   "pygments_lexer": "ipython3",
   "version": "3.13.6"
  }
 },
 "nbformat": 4,
 "nbformat_minor": 5
}
