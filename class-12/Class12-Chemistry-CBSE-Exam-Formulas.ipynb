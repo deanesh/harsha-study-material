{
 "cells": [
  {
   "cell_type": "markdown",
   "id": "85bd3402",
   "metadata": {},
   "source": []
  },
  {
   "cell_type": "markdown",
   "id": "8e6cda31",
   "metadata": {},
   "source": [
    "| **Chapter**                     | **Concept**                   | **Formula**                                          | **Variable Explanation**                                                                                   |\n",
    "| ------------------------------ | ----------------------------- | ---------------------------------------------------- | ---------------------------------------------------------------------------------------------------------- |\n",
    "| **Solid State**                | Types of Solids               | Ionic, Molecular, Covalent, Metallic solids          |                                                                                                            |\n",
    "|                              | Unit Cell & Density           | [$\\rho = \\frac{Z M}{a^3 N_A}$]                       | $\\rho$: density, $Z$: atoms/unit cell, $M$: molar mass, $a$: cell edge length, $N_A$: Avogadro's number    |\n",
    "|                              | Packing Efficiency            | SC: 52%, BCC: 68%, FCC: 74%                          |                                                                                                            |\n",
    "| **Solutions**                 | Concentration Terms           | [$M = \\frac{n}{V}$], [$m = \\frac{n}{W_{\\text{solvent}}}$] | $M$: molarity, $n$: moles solute, $V$: volume (L); $m$: molality, $W$: solvent mass in kg                    |\n",
    "|                              | Colligative Properties        | [$\\Delta T_b = K_b m$], [$\\Delta T_f = K_f m$], [$\\Pi = CRT$] | $\\Delta T_b$: boiling point elevation, $K_b$: ebullioscopic constant, $m$: molality; $\\Delta T_f$: freezing point depression, $K_f$: cryoscopic constant; $\\Pi$: osmotic pressure, $C$: concentration, $R$: gas constant, $T$: temperature |\n",
    "|                              | Raoult’s Law                  | [$P_{\\text{solution}} = X_A P^0_A + X_B P^0_B$]      | $P$: vapor pressure, $X$: mole fraction                                                                      |\n",
    "|                              | Van’t Hoff Factor             | [$i = \\frac{\\text{observed value}}{\\text{normal value}}$] | Degree of dissociation/association factor                                                                   |\n",
    "| **Electrochemistry**          | Nernst Equation               | [$E = E^\\circ - \\frac{0.0591}{n} \\log Q$]            | $E$: cell potential, $E^\\circ$: standard potential, $n$: electrons transferred, $Q$: reaction quotient       |\n",
    "|                              | Relation with Gibbs Free Energy | [$\\Delta G = -nFE$]                                  | $\\Delta G$: Gibbs free energy change, $n$: electrons, $F$: Faraday constant, $E$: cell potential              |\n",
    "|                              | Conductance                   | [$\\kappa = \\frac{1}{R} \\cdot \\frac{l}{A}$], [$\\Lambda_m = \\frac{\\kappa \\cdot 1000}{C}$] | $\\kappa$: conductivity, $R$: resistance, $l$: length, $A$: area; $\\Lambda_m$: molar conductivity, $C$: concentration (mol/L) |\n",
    "| **Chemical Kinetics**         | Rate Law                     | [Rate = $k [A]^m [B]^n$]                             | $k$: rate constant, $[A],[B]$: reactant concentrations, $m,n$: reaction orders                               |\n",
    "|                              | First Order Reaction          | [$k = \\frac{2.303}{t} \\log \\frac{[R]_0}{[R]}$], [$t_{1/2} = \\frac{0.693}{k}$] | $k$: rate constant, $t$: time, $[R]_0$: initial concentration, $[R]$: concentration at time $t$                |\n",
    "|                              | Arrhenius Equation            | [$k = A e^{-\\frac{E_a}{RT}}$]                        | $A$: frequency factor, $E_a$: activation energy, $R$: gas constant, $T$: temperature                          |\n",
    "| **Surface Chemistry**         | Adsorption Isotherm           | [$\\frac{x}{m} = \\frac{aP}{1 + bP}$]                   | $x$: amount adsorbed, $m$: adsorbent mass, $P$: pressure, $a,b$: constants                                  |\n",
    "|                              | Tyndall Effect                | Shown by colloids, not true solutions                |                                                                                                            |\n",
    "| **The p-Block Elements**      | Group Trends                  | Acidity, bond angles, oxidation states vary down the group |                                                                                                            |\n",
    "|                              | Important Compounds           | NH₃, HNO₃, PCl₃, PCl₅, H₂SO₄, SO₂, Cl₂, HCl, Bleaching Powder |                                                                                                            |\n",
    "| **The d- & f-Block Elements** | Magnetic Moment               | [$\\mu = \\sqrt{n(n+2)}$ BM]                            | $\\mu$: magnetic moment (Bohr Magneton), $n$: number of unpaired electrons                                  |\n",
    "|                              | Characteristics               | Variable oxidation states, colored ions, catalytic behavior |                                                                                                            |\n",
    "| **Coordination Compounds**    | Nomenclature                 | [Metal(Ligands)] with charges, e.g., [Cr(H₂O)₆]³⁺    |                                                                                                            |\n",
    "|                              | Oxidation State               | Add ligand and ion charges to calculate              |                                                                                                            |\n",
    "|                              | Isomerism                    | Linkage, Coordination, Geometrical, Optical          |                                                                                                            |\n",
    "|                              | Crystal Field Theory          | [$\\Delta_0$ splitting of d-orbitals in octahedral field] | $\\Delta_0$: crystal field splitting energy                                                                |\n",
    "| **Haloalkanes & Haloarenes**  | SN1 & SN2 Reactions           | SN1: 2-step, tertiary preferred; SN2: 1-step, primary preferred |                                                                                                            |\n",
    "|                              | Physical Properties           | Haloalkanes are polar, undergo substitution & elimination |                                                                                                            |\n",
    "| **Alcohols, Phenols & Ethers**| Reactions                    | Dehydration, oxidation, esterification                |                                                                                                            |\n",
    "|                              | Acidity Order                | Phenol > Alcohol > Water                               |                                                                                                            |\n",
    "| **Aldehydes, Ketones & Carboxylic Acids** | Tests                     | 2,4-DNP, Fehling’s, Tollen’s test (only for aldehydes) |                                                                                                            |\n",
    "|                              | Reactions                    | Nucleophilic addition, Aldol condensation, Cannizzaro, etc. |                                                                                                            |\n",
    "| **Amines**                  | Basicity Order               | 2° > 1° > 3° (aqueous); opposite in gas phase         |                                                                                                            |\n",
    "|                              | Diazotization                | Aniline + HNO₂ → Diazonium salt (0–5°C)               |                                                                                                            |\n",
    "| **Biomolecules**            | Carbohydrates               | Monosaccharides (glucose), Disaccharides (sucrose), Polysaccharides (starch) |                                                                                                            |\n",
    "|                              | Proteins                    | Primary, Secondary, Tertiary, Quaternary structure    |                                                                                                            |\n",
    "|                              | Enzymes                     | Biocatalysts, specific action                          |                                                                                                            |\n",
    "| **Polymers**                | Types                       | Addition (PE, PVC), Condensation (Nylon 6,6), Copolymers (Buna-S) |                                                                                                            |\n",
    "|                              | Natural Polymers            | Starch, Cellulose, Proteins, Rubber                    |                                                                                                            |\n",
    "| **Chemistry in Everyday Life**| Drugs                       | Analgesics, Antipyretics, Antibiotics, Antacids       |                                                                                                            |\n",
    "|                              | Cleansing Agents            | Soaps (sodium salts), Detergents (sulphonates)         |                                                                                                            |\n"
   ]
  },
  {
   "cell_type": "markdown",
   "id": "a6e92476",
   "metadata": {},
   "source": []
  }
 ],
 "metadata": {
  "kernelspec": {
   "display_name": "Python 3",
   "language": "python",
   "name": "python3"
  },
  "language_info": {
   "codemirror_mode": {
    "name": "ipython",
    "version": 3
   },
   "file_extension": ".py",
   "mimetype": "text/x-python",
   "name": "python",
   "nbconvert_exporter": "python",
   "pygments_lexer": "ipython3",
   "version": "3.13.6"
  }
 },
 "nbformat": 4,
 "nbformat_minor": 5
}
