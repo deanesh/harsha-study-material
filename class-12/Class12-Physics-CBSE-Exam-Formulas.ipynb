{
 "cells": [
  {
   "cell_type": "markdown",
   "id": "75b0c920",
   "metadata": {},
   "source": [
    "| **Chapter**                                 | **Concept**                    | **Formula / Key Point**                                                                                   | **Explanation of Variables**                              |\n",
    "|---------------------------------------------|-------------------------------|------------------------------------------------------------------------------------------------------------|------------------------------------------------------------|\n",
    "| **Electric Charges and Fields**             | Coulomb’s Law                  | [$F = k \\frac{q_1 q_2}{r^2}$] <br> [$k = \\frac{1}{4\\pi \\varepsilon_0}$]                                    | $F$ = force; $q_1, q_2$ = charges; $r$ = distance; $k$ = constant |\n",
    "|                                             | Electric Field                 | [$\\vec{E} = \\frac{\\vec{F}}{q} = \\frac{kQ}{r^2}$]                                                          | $\\vec{E}$ = field; $Q$ = source charge; $q$ = test charge     |\n",
    "|                                             | Electric Dipole                | [$E_{\\text{axial}} = \\frac{1}{4\\pi \\varepsilon_0} \\cdot \\frac{2p}{r^3}$]                                    | $p$ = dipole moment; $r$ = distance                         |\n",
    "| **Electrostatic Potential and Capacitance** | Potential Due to Point Charge  | [$V = \\frac{kQ}{r}$]                                                                                       | $V$ = potential; $Q$ = charge; $r$ = distance                |\n",
    "|                                             | Capacitance                   | [$C = \\frac{Q}{V}$] <br> [$C_{\\text{parallel plate}} = \\varepsilon_0 \\frac{A}{d}$]                          | $C$ = capacitance; $Q$ = charge; $V$ = potential; $A$ = area; $d$ = separation |\n",
    "|                                             | Series & Parallel Capacitors  | [$C_{\\text{series}}^{-1} = C_1^{-1} + C_2^{-1} + ...$] <br> [$C_{\\text{parallel}} = C_1 + C_2 + ...$]        | Capacitors combined in series and parallel                   |\n",
    "| **Current Electricity**                      | Ohm’s Law                    | [$V = IR$]                                                                                                | $V$ = voltage; $I$ = current; $R$ = resistance              |\n",
    "|                                             | Resistance & Resistivity      | [$R = \\rho \\frac{l}{A}$]                                                                                   | $R$ = resistance; $\\rho$ = resistivity; $l$ = length; $A$ = area |\n",
    "|                                             | Series & Parallel Resistors  | [$R_{\\text{series}} = R_1 + R_2 + ...$] <br> [$R_{\\text{parallel}}^{-1} = R_1^{-1} + R_2^{-1} + ...$]        | Resistors combined in series and parallel                    |\n",
    "|                                             | Power                        | [$P = VI = I^2R = \\frac{V^2}{R}$]                                                                         | $P$ = power                                                |\n",
    "| **Moving Charges and Magnetism**             | Magnetic Force               | [$F = qvB \\sin \\theta$] <br> [$F = I l B \\sin \\theta$]                                                    | $q$ = charge; $v$ = velocity; $B$ = magnetic field; $\\theta$ = angle; $I$ = current; $l$ = length |\n",
    "|                                             | Magnetic Field (Wire, Loop)  | [Straight wire: $B = \\frac{\\mu_0 I}{2\\pi r}$] <br> [Loop: $B = \\frac{\\mu_0 I}{2R}$]                         | $\\mu_0$ = permeability; $I$ = current; $r, R$ = radius      |\n",
    "|                                             | Ampere’s Law                 | [$\\oint \\vec{B} \\cdot d\\vec{l} = \\mu_0 I$]                                                                | Line integral of magnetic field around current $I$         |\n",
    "| **Magnetism and Matter**                      | Magnetic Dipole Moment       | [$M = m \\times 2l$] <br> [$U = -\\vec{M} \\cdot \\vec{B}$]                                                  | $M$ = dipole moment; $m$ = magnetic pole strength; $l$ = half length; $U$ = potential energy |\n",
    "|                                             | Gauss's Law for Magnetism    | [$\\vec{\\nabla} \\cdot \\vec{B} = 0$] <br> (No magnetic monopoles)                                           | Divergence of magnetic field is zero                         |\n",
    "| **Electromagnetic Induction**                  | Faraday’s Law               | [$e = -\\frac{d\\Phi}{dt}$]                                                                                  | $e$ = induced emf; $\\Phi$ = magnetic flux                   |\n",
    "|                                             | Lenz’s Law                  | Direction of induced current opposes cause                                                                | Conservation of energy principle                             |\n",
    "|                                             | Self Inductance             | [$e = -L \\frac{di}{dt}$] <br> Energy: [$U = \\frac{1}{2} L I^2$]                                            | $L$ = inductance; $I$ = current                             |\n",
    "| **Alternating Current**                         | AC Voltage                 | [$V = V_0 \\sin \\omega t$] <br> RMS: [$V_{\\text{rms}} = \\frac{V_0}{\\sqrt{2}}$]                              | $V_0$ = peak voltage; $\\omega$ = angular frequency          |\n",
    "|                                             | Reactance & Impedance        | [$X_L = \\omega L$, $X_C = \\frac{1}{\\omega C}$] <br> [$Z = \\sqrt{R^2 + (X_L - X_C)^2}$]                     | $X_L$, $X_C$ = inductive, capacitive reactance; $Z$ = impedance |\n",
    "|                                             | Power in AC                  | [$P = VI \\cos \\phi$] <br> (cos $\\phi$ = power factor)                                                     | $\\phi$ = phase difference between voltage and current       |\n",
    "| **Electromagnetic Waves**                      | Speed of EM Waves           | [$c = \\frac{1}{\\sqrt{\\mu_0 \\varepsilon_0}}$] <br> [$c = 3 \\times 10^8 \\text{ m/s}$]                         | Speed of light in vacuum                                     |\n",
    "|                                             | EM Spectrum                 | Radio < Microwave < Infrared < Visible < UV < X-rays < Gamma rays                                          | Order of EM waves by wavelength                             |\n",
    "| **Ray Optics and Optical Instruments**         | Mirror Formula             | [$\\frac{1}{f} = \\frac{1}{v} + \\frac{1}{u}$] <br> [$m = \\frac{h'}{h} = \\frac{-v}{u}$]                       | $f$ = focal length; $v,u$ = image and object distances; $m$ = magnification |\n",
    "|                                             | Lens Formula                | [$\\frac{1}{f} = \\frac{1}{v} - \\frac{1}{u}$] <br> [$m = \\frac{v}{u}$]                                      | Same as above                                              |\n",
    "|                                             | Power of Lens               | [$P = \\frac{100}{f\\text{(cm)}}$]                                                                          | $P$ in diopters; $f$ in cm                                  |\n",
    "| **Wave Optics**                               | Young’s Double Slit Experiment | Fringe width: [$\\beta = \\frac{\\lambda D}{d}$]                                                             | $\\lambda$ = wavelength; $D$ = screen distance; $d$ = slit separation |\n",
    "|                                             | Diffraction                 | Central maximum width ∝ [$\\frac{\\lambda}{a}$]                                                             | $a$ = slit width                                            |\n",
    "|                                             | Polarization                | Only transverse waves show polarization                                                                   | Property of waves                                           |\n",
    "| **Dual Nature of Radiation and Matter**       | De Broglie Wavelength      | [$\\lambda = \\frac{h}{mv}$]                                                                                  | $h$ = Planck's constant; $m$ = mass; $v$ = velocity          |\n",
    "|                                             | Photoelectric Equation      | [$E_k = h\\nu - \\phi$]                                                                                       | $E_k$ = kinetic energy; $\\nu$ = frequency; $\\phi$ = work function |\n",
    "| **Atoms**                                     | Radius (Bohr Model)         | [$r_n = n^2 \\cdot a_0$], [$a_0 = 0.529 \\text{ Å}$]                                                         | $n$ = energy level; $a_0$ = Bohr radius                      |\n",
    "|                                             | Energy Levels              | [$E_n = -13.6 \\frac{Z^2}{n^2}$ eV]                                                                         | $Z$ = atomic number                                         |\n",
    "| **Nuclei**                                    | Binding Energy             | [$BE = [Z m_p + (A-Z) m_n - m_{\\text{nucleus}}] c^2$]                                                     | $Z$ = proton number; $A$ = mass number; $m_p$, $m_n$ = proton/neutron masses |\n",
    "|                                             | Radioactive Decay          | [$N = N_0 e^{-\\lambda t}$] <br> [$t_{1/2} = \\frac{0.693}{\\lambda}$]                                        | $N$ = nuclei remaining; $\\lambda$ = decay constant          |\n",
    "| **Semiconductors**                            | Diode Current              | [$I = I_0 (e^{\\frac{eV}{kT}} - 1)$]                                                                        | $I$ = current; $V$ = voltage; $k$ = Boltzmann constant; $T$ = temperature |\n",
    "|                                             | Logic Gates                | AND, OR, NOT, NAND, NOR — Truth tables                                                                     | Basic logic gate operations                                  |\n"
   ]
  },
  {
   "cell_type": "markdown",
   "id": "3cf59d25",
   "metadata": {},
   "source": []
  }
 ],
 "metadata": {
  "kernelspec": {
   "display_name": "Python 3",
   "language": "python",
   "name": "python3"
  },
  "language_info": {
   "codemirror_mode": {
    "name": "ipython",
    "version": 3
   },
   "file_extension": ".py",
   "mimetype": "text/x-python",
   "name": "python",
   "nbconvert_exporter": "python",
   "pygments_lexer": "ipython3",
   "version": "3.13.6"
  }
 },
 "nbformat": 4,
 "nbformat_minor": 5
}
