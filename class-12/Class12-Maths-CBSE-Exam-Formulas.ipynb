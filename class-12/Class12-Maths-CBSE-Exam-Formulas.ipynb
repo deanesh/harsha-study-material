{
 "cells": [
  {
   "cell_type": "markdown",
   "id": "c47ca679",
   "metadata": {
    "vscode": {
     "languageId": "html"
    }
   },
   "source": [
    "| **Chapter**                      | **Concept**                     | **Formula / Key Point**                                                                                     |\n",
    "|----------------------------------|----------------------------------|-------------------------------------------------------------------------------------------------------------|\n",
    "| **Relations and Functions**      | Types of Relations              | Reflexive, Symmetric, Transitive, Equivalence                                                              |\n",
    "|                                  | ---                              | ---                                                                                                         |\n",
    "|                                  | Types of Functions              | One-one, Onto, Bijective                                                                                    |\n",
    "|                                  | ---                              | ---                                                                                                         |\n",
    "|                                  | Inverse of Function             | $f^{-1}(f(x)) = x$                                                                                          |\n",
    "|                                  | ---                              | ---                                                                                                         |\n",
    "| **Inverse Trigonometric Functions** | Principal Values             | $\\sin^{-1} x \\in [-\\frac{\\pi}{2}, \\frac{\\pi}{2}]$ <br> $\\cos^{-1} x \\in [0, \\pi]$                            |\n",
    "|                                  | ---                              | ---                                                                                                         |\n",
    "|                                  | Identities                     | $\\sin^{-1}x + \\cos^{-1}x = \\frac{\\pi}{2}$ <br> $\\tan^{-1}x + \\cot^{-1}x = \\frac{\\pi}{2}$                     |\n",
    "|                                  | ---                              | ---                                                                                                         |\n",
    "| **Matrices**                     | Matrix Operations               | $(A + B)^T = A^T + B^T$, <br> $(AB)^T = B^T A^T$                                                             |\n",
    "|                                  | ---                              | ---                                                                                                         |\n",
    "|                                  | Inverse of Matrix              | $A^{-1} = \\frac{1}{|A|} \\cdot \\text{adj}(A)$ <br> if $|A| \\ne 0$                                            |\n",
    "|                                  | ---                              | ---                                                                                                         |\n",
    "| **Determinants**                 | Properties                     | $|AB| = |A||B|$, <br> $|A^T| = |A|$                                                                         |\n",
    "|                                  | ---                              | ---                                                                                                         |\n",
    "|                                  | Area of Triangle               | $\\text{Area} = \\frac{1}{2} \\begin{vmatrix} x_1 & y_1 & 1 \\\\ x_2 & y_2 & 1 \\\\ x_3 & y_3 & 1 \\end{vmatrix}$     |\n",
    "|                                  | ---                              | ---                                                                                                         |\n",
    "|                                  | Cramer's Rule                  | $x = \\frac{D_x}{D},\\quad y = \\frac{D_y}{D},\\quad z = \\frac{D_z}{D}$                                         |\n",
    "|                                  | ---                              | ---                                                                                                         |\n",
    "| **Continuity and Differentiability** | Continuity                 | $\\lim_{x \\to a^-} f(x) = \\lim_{x \\to a^+} f(x) = f(a)$                                                      |\n",
    "|                                  | ---                              | ---                                                                                                         |\n",
    "|                                  | Derivatives                    | $(uv)' = u'v + uv'$ <br> $(f(g(x)))' = f'(g(x)) \\cdot g'(x)$                                               |\n",
    "|                                  | ---                              | ---                                                                                                         |\n",
    "|                                  | Implicit Differentiation       | Differentiate both sides of equation w.r.t. $x$                                                             |\n",
    "|                                  | ---                              | ---                                                                                                         |\n",
    "| **Applications of Derivatives**  | Tangent & Normal               | Slope of tangent: $f'(x)$ <br> Equation: $y - y_1 = m(x - x_1)$                                             |\n",
    "|                                  | ---                              | ---                                                                                                         |\n",
    "|                                  | Increasing/Decreasing          | $f'(x) > 0$ ⇒ Increasing <br> $f'(x) < 0$ ⇒ Decreasing                                                     |\n",
    "|                                  | ---                              | ---                                                                                                         |\n",
    "|                                  | Maxima & Minima                | Use $f'(x) = 0$ and second derivative test                                                                  |\n",
    "|                                  | ---                              | ---                                                                                                         |\n",
    "| **Integrals**                    | Basic Integration              | $\\int x^n dx = \\frac{x^{n+1}}{n+1} + C$, $n \\ne -1$ <br> $\\int e^x dx = e^x + C$                            |\n",
    "|                                  | ---                              | ---                                                                                                         |\n",
    "|                                  | Integration by Parts           | $\\int u \\cdot v \\, dx = u \\int v dx - \\int \\left( \\frac{du}{dx} \\int v dx \\right) dx$                       |\n",
    "|                                  | ---                              | ---                                                                                                         |\n",
    "|                                  | Definite Integral              | $\\int_a^b f(x)\\,dx = F(b) - F(a)$ <br> $\\int_a^b f(x)\\,dx = \\int_a^b f(a + b - x)\\,dx$                       |\n",
    "|                                  | ---                              | ---                                                                                                         |\n",
    "| **Applications of Integrals**    | Area Under Curve               | $\\text{Area} = \\int_a^b [f(x) - g(x)] dx$                                                                   |\n",
    "|                                  | ---                              | ---                                                                                                         |\n",
    "|                                  | Area Between Curve and Axis    | $\\text{Area} = \\int_a^b f(x) dx$                                                                            |\n",
    "|                                  | ---                              | ---                                                                                                         |\n",
    "| **Differential Equations**       | Order and Degree               | Order = highest derivative, <br> Degree = power of highest derivative (if polynomial)                      |\n",
    "|                                  | ---                              | ---                                                                                                         |\n",
    "|                                  | Variable Separable Method      | $\\frac{dy}{dx} = f(x)g(y) \\Rightarrow \\frac{dy}{g(y)} = f(x) dx$                                           |\n",
    "|                                  | ---                              | ---                                                                                                         |\n",
    "| **Vector Algebra**               | Dot Product                    | $\\vec{A} \\cdot \\vec{B} = |\\vec{A}||\\vec{B}| \\cos \\theta$                                                   |\n",
    "|                                  | ---                              | ---                                                                                                         |\n",
    "|                                  | Cross Product                  | $\\vec{A} \\times \\vec{B} = |\\vec{A}||\\vec{B}| \\sin \\theta \\hat{n}$                                          |\n",
    "|                                  | ---                              | ---                                                                                                         |\n",
    "|                                  | Scalar Triple Product          | $\\vec{A} \\cdot (\\vec{B} \\times \\vec{C}) = \\begin{vmatrix} A_x & A_y & A_z \\\\ B_x & B_y & B_z \\\\ C_x & C_y & C_z \\end{vmatrix}$ |\n",
    "|                                  | ---                              | ---                                                                                                         |\n",
    "| **Three-Dimensional Geometry**   | Line Equation                  | Vector: $\\vec{r} = \\vec{a} + \\lambda \\vec{b}$ <br> Cartesian: $\\frac{x - x_1}{l} = \\frac{y - y_1}{m} = \\frac{z - z_1}{n}$ |\n",
    "|                                  | ---                              | ---                                                                                                         |\n",
    "|                                  | Plane Equation                 | $ax + by + cz + d = 0$ <br> Vector: $\\vec{r} \\cdot \\hat{n} = d$                                             |\n",
    "|                                  | ---                              | ---                                                                                                         |\n",
    "|                                  | Distance Between Point & Plane | $\\frac{|ax_1 + by_1 + cz_1 + d|}{\\sqrt{a^2 + b^2 + c^2}}$                                                   |\n",
    "|                                  | ---                              | ---                                                                                                         |\n",
    "| **Linear Programming**           | Constraints & Feasible Region  | Convert word problems to inequalities <br> Graph feasible region                                            |\n",
    "|                                  | ---                              | ---                                                                                                         |\n",
    "|                                  | Objective Function             | $Z = ax + by$ ⇒ Max/Min at corner points of feasible region                                                |\n",
    "|                                  | ---                              | ---                                                                                                         |\n",
    "| **Probability**                  | Conditional Probability        | $P(A|B) = \\frac{P(A \\cap B)}{P(B)}$                                                                         |\n",
    "|                                  | ---                              | ---                                                                                                         |\n",
    "|                                  | Bayes’ Theorem                 | $P(E_i | A) = \\frac{P(E_i) \\cdot P(A|E_i)}{\\sum P(E_j) \\cdot P(A|E_j)}$                                     |\n",
    "|                                  | ---                              | ---                                                                                                         |\n",
    "|                                  | Independent Events             | $P(A \\cap B) = P(A) \\cdot P(B)$                                                                             |\n"
   ]
  },
  {
   "cell_type": "markdown",
   "id": "cc365652",
   "metadata": {},
   "source": []
  },
  {
   "cell_type": "markdown",
   "id": "61a120ac",
   "metadata": {},
   "source": []
  }
 ],
 "metadata": {
  "kernelspec": {
   "display_name": "Python 3",
   "language": "python",
   "name": "python3"
  },
  "language_info": {
   "codemirror_mode": {
    "name": "ipython",
    "version": 3
   },
   "file_extension": ".py",
   "mimetype": "text/x-python",
   "name": "python",
   "nbconvert_exporter": "python",
   "pygments_lexer": "ipython3",
   "version": "3.13.6"
  }
 },
 "nbformat": 4,
 "nbformat_minor": 5
}
