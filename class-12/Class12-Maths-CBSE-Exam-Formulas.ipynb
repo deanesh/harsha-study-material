{
 "cells": [
  {
   "cell_type": "markdown",
   "id": "c47ca679",
   "metadata": {
    "vscode": {
     "languageId": "html"
    }
   },
   "source": [
    "| **Chapter**                      | **Concept**                     | **Formula / Key Point**                                                                                     | **Explanation of Variables** |\n",
    "|----------------------------------|----------------------------------|-------------------------------------------------------------------------------------------------------------|-------------------------------|\n",
    "| **Relations and Functions**      | Types of Relations              | [Reflexive, Symmetric, Transitive, Equivalence]                                                            | Types describing properties of binary relations |\n",
    "|                                  | Types of Functions              | [One-one, Onto, Bijective]                                                                                 | One-one: unique outputs; Onto: full range covered; Bijective: both |\n",
    "|                                  | Inverse of Function             | [$f^{-1}(f(x)) = x$]                                                                                        | $f(x)$ is a function, $f^{-1}$ is its inverse |\n",
    "| **Inverse Trigonometric Functions** | Principal Values             | [$\\sin^{-1} x \\in [-\\frac{\\pi}{2}, \\frac{\\pi}{2}]$, $\\cos^{-1} x \\in [0, \\pi]$]                             | $x$ is input; range shows principal value restrictions |\n",
    "|                                  | Identities                     | [$\\sin^{-1}x + \\cos^{-1}x = \\frac{\\pi}{2}$, $\\tan^{-1}x + \\cot^{-1}x = \\frac{\\pi}{2}$]                       | Inverse function identities for complementary angles |\n",
    "| **Matrices**                     | Matrix Operations               | [$(A + B)^T = A^T + B^T$, $(AB)^T = B^T A^T$]                                                                | $A, B$ are matrices; $T$ is transpose |\n",
    "|                                  | Inverse of Matrix              | [$A^{-1} = \\frac{1}{|A|} \\cdot \\text{adj}(A)$ if $|A| \\ne 0$]                                               | $|A|$ is determinant; adj is adjugate of $A$ |\n",
    "| **Determinants**                 | Properties                     | [$|AB| = |A||B|$, $|A^T| = |A|$]                                                                            | Determinant of matrix product and transpose |\n",
    "|                                  | Area of Triangle               | [$\\text{Area} = \\frac{1}{2} \\begin{vmatrix} x_1 & y_1 & 1 \\\\ x_2 & y_2 & 1 \\\\ x_3 & y_3 & 1 \\end{vmatrix}$] | $(x_1,y_1)$ etc. are triangle vertices |\n",
    "|                                  | Cramer's Rule                  | [$x = \\frac{D_x}{D}, y = \\frac{D_y}{D}, z = \\frac{D_z}{D}$]                                                 | $D$ is determinant of main matrix; $D_x$ etc. are for variables |\n",
    "| **Continuity and Differentiability** | Continuity                 | [$\\lim_{x \\to a^-} f(x) = \\lim_{x \\to a^+} f(x) = f(a)$]                                                    | $f(x)$ is continuous if left & right limits equal function value |\n",
    "|                                  | Derivatives                    | [$(uv)' = u'v + uv'$, $(f(g(x)))' = f'(g(x)) \\cdot g'(x)$]                                                  | Product and chain rule for derivatives |\n",
    "|                                  | Implicit Differentiation       | [Differentiate both sides of equation w.r.t. $x$]                                                           | Used when $y$ is a function of $x$ but not isolated |\n",
    "| **Applications of Derivatives**  | Tangent & Normal               | [Slope of tangent: $f'(x)$, Equation: $y - y_1 = m(x - x_1)$]                                               | $f'(x)$ is derivative; $(x_1,y_1)$ is point; $m$ is slope |\n",
    "|                                  | Increase/Decrease              | [$f'(x) > 0$ ⇒ Increasing, $f'(x) < 0$ ⇒ Decreasing]                                                        | Positive slope = increasing function; negative = decreasing |\n",
    "|                                  | Maxima & Minima                | [Use $f'(x) = 0$ and second derivative test]                                                                | $f'(x)$ is zero at extrema; $f''(x)$ tells nature |\n",
    "| **Integrals**                    | Basic Integration              | [$\\int x^n dx = \\frac{x^{n+1}}{n+1} + C$, $\\int e^x dx = e^x + C$]                                          | $C$ is constant of integration |\n",
    "|                                  | Integration by Parts           | [$\\int u \\cdot v \\, dx = u \\int v dx - \\int \\left( \\frac{du}{dx} \\int v dx \\right) dx$]                    | Used when product of two functions |\n",
    "|                                  | Definite Integral              | [$\\int_a^b f(x)\\,dx = F(b) - F(a)$, $\\int_a^b f(x)\\,dx = \\int_a^b f(a + b - x)\\,dx$]                        | $F$ is antiderivative of $f$ |\n",
    "| **Applications of Integrals**    | Area Under Curve               | [$\\text{Area} = \\int_a^b [f(x) - g(x)] dx$]                                                                 | $f(x)$ is upper curve, $g(x)$ is lower curve |\n",
    "|                                  | Area Between Curve and Axis    | [$\\text{Area} = \\int_a^b f(x) dx$]                                                                          | Area between function and x-axis |\n",
    "| **Differential Equations**       | Order and Degree               | [Order = highest derivative, Degree = power of highest derivative]                                         | Applies if equation is polynomial in derivatives |\n",
    "|                                  | Variable Separable Method      | [$\\frac{dy}{dx} = f(x)g(y) \\Rightarrow \\frac{dy}{g(y)} = f(x) dx$]                                          | Variables separated for integration |\n",
    "| **Vector Algebra**               | Dot Product                    | [$\\vec{A} \\cdot \\vec{B} = |\\vec{A}||\\vec{B}| \\cos \\theta$]                                                  | Angle $\\theta$ between vectors |\n",
    "|                                  | Cross Product                  | [$\\vec{A} \\times \\vec{B} = |\\vec{A}||\\vec{B}| \\sin \\theta \\hat{n}$]                                         | $\\hat{n}$ is unit vector perpendicular |\n",
    "|                                  | Scalar Triple Product          | [$\\vec{A} \\cdot (\\vec{B} \\times \\vec{C}) = \\begin{vmatrix} A_x & A_y & A_z \\\\ B_x & B_y & B_z \\\\ C_x & C_y & C_z \\end{vmatrix}$] | Volume of parallelepiped |\n",
    "| **Three-Dimensional Geometry**   | Line Equation                  | [Vector: $\\vec{r} = \\vec{a} + \\lambda \\vec{b}$, Cartesian: $\\frac{x - x_1}{l} = \\frac{y - y_1}{m} = \\frac{z - z_1}{n}$] | $\\vec{a}$ = point vector, $\\vec{b}$ = direction vector |\n",
    "|                                  | Plane Equation                 | [$ax + by + cz + d = 0$, Vector: $\\vec{r} \\cdot \\hat{n} = d$]                                               | $(a,b,c)$ is normal vector |\n",
    "|                                  | Distance Between Point & Plane | [$\\frac{|ax_1 + by_1 + cz_1 + d|}{\\sqrt{a^2 + b^2 + c^2}}$]                                                 | $(x_1,y_1,z_1)$ is point; $(a,b,c)$ is normal to plane |\n",
    "| **Linear Programming**           | Constraints & Feasible Region  | [Convert word problems to inequalities; Graph feasible region]                                             | Feasible region = region satisfying all constraints |\n",
    "|                                  | Objective Function             | [$Z = ax + by$ ⇒ Max/Min at corner points]                                                                 | $a, b$ are constants; $x, y$ are variables |\n",
    "| **Probability**                  | Conditional Probability        | [$P(A|B) = \\frac{P(A \\cap B)}{P(B)}$]                                                                       | Probability of $A$ given $B$ has occurred |\n",
    "|                                  | Bayes’ Theorem                 | [$P(E_i | A) = \\frac{P(E_i) \\cdot P(A|E_i)}{\\sum P(E_j) \\cdot P(A|E_j)}$]                                   | $E_i$ are events; $A$ is observed event |\n",
    "|                                  | Independent Events             | [$P(A \\cap B) = P(A) \\cdot P(B)$]                                                                           | $A$ and $B$ are independent if outcome of one doesn't affect the other |\n"
   ]
  },
  {
   "cell_type": "markdown",
   "id": "cc365652",
   "metadata": {},
   "source": []
  },
  {
   "cell_type": "markdown",
   "id": "61a120ac",
   "metadata": {},
   "source": []
  }
 ],
 "metadata": {
  "kernelspec": {
   "display_name": "Python 3",
   "language": "python",
   "name": "python3"
  },
  "language_info": {
   "codemirror_mode": {
    "name": "ipython",
    "version": 3
   },
   "file_extension": ".py",
   "mimetype": "text/x-python",
   "name": "python",
   "nbconvert_exporter": "python",
   "pygments_lexer": "ipython3",
   "version": "3.13.6"
  }
 },
 "nbformat": 4,
 "nbformat_minor": 5
}
